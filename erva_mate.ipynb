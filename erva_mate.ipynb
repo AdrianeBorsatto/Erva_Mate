{
 "cells": [
  {
   "cell_type": "markdown",
   "id": "cdccff99",
   "metadata": {},
   "source": [
    "# Analisando os Dados de Custo e Produção de Erva Mate 2022 por hectare(ha) e por 15kg de produto, na cidade de Ilópolis-RS (Fonte:Conab)"
   ]
  },
  {
   "cell_type": "code",
   "execution_count": 924,
   "id": "3dd22765",
   "metadata": {},
   "outputs": [],
   "source": [
    "import pandas as pd\n",
    "import matplotlib.pyplot as plt\n",
    "import seaborn as sns"
   ]
  },
  {
   "cell_type": "code",
   "execution_count": 925,
   "id": "5fb66555",
   "metadata": {},
   "outputs": [],
   "source": [
    "dados=pd.read_excel('Erva_Mate_Serie_Historica_2014-2022.xlsx', sheet_name='Ilópolis-RS-2022', usecols='A:C', header=5, index_col=[0])"
   ]
  },
  {
   "cell_type": "code",
   "execution_count": 926,
   "id": "4aeb2264",
   "metadata": {},
   "outputs": [],
   "source": [
    "dados.rename(columns={'Produtividade Média: 11201,00 kg/ha': 'producao_media_11201kg_ha', 'Ex-Ant':'CUSTO_ha_2022', 'Unnamed: 2': 'CUSTO_15kg_2022'}, inplace=True)"
   ]
  },
  {
   "cell_type": "code",
   "execution_count": 927,
   "id": "74135cc8",
   "metadata": {},
   "outputs": [],
   "source": [
    "dados.dropna(inplace=True)\n"
   ]
  },
  {
   "cell_type": "code",
   "execution_count": 928,
   "id": "3bec7b71",
   "metadata": {},
   "outputs": [],
   "source": [
    "dados=dados.reset_index()\n"
   ]
  },
  {
   "cell_type": "code",
   "execution_count": 929,
   "id": "43fca073",
   "metadata": {},
   "outputs": [
    {
     "data": {
      "text/html": [
       "<div>\n",
       "<style scoped>\n",
       "    .dataframe tbody tr th:only-of-type {\n",
       "        vertical-align: middle;\n",
       "    }\n",
       "\n",
       "    .dataframe tbody tr th {\n",
       "        vertical-align: top;\n",
       "    }\n",
       "\n",
       "    .dataframe thead th {\n",
       "        text-align: right;\n",
       "    }\n",
       "</style>\n",
       "<table border=\"1\" class=\"dataframe\">\n",
       "  <thead>\n",
       "    <tr style=\"text-align: right;\">\n",
       "      <th></th>\n",
       "      <th>Produtividade Média: 11201,00 kg/ha</th>\n",
       "      <th>CUSTO_ha_2022</th>\n",
       "      <th>CUSTO_15kg_2022</th>\n",
       "    </tr>\n",
       "  </thead>\n",
       "  <tbody>\n",
       "    <tr>\n",
       "      <th>0</th>\n",
       "      <td>DISCRIMINAÇÃO</td>\n",
       "      <td>CUSTO POR HA</td>\n",
       "      <td>CUSTO /  15 kg</td>\n",
       "    </tr>\n",
       "    <tr>\n",
       "      <th>1</th>\n",
       "      <td>1 - Operação com animal</td>\n",
       "      <td>0</td>\n",
       "      <td>0</td>\n",
       "    </tr>\n",
       "    <tr>\n",
       "      <th>2</th>\n",
       "      <td>2 - Operação com Avião</td>\n",
       "      <td>0</td>\n",
       "      <td>0</td>\n",
       "    </tr>\n",
       "    <tr>\n",
       "      <th>3</th>\n",
       "      <td>\\t \\t \\t \\t \\t \\t3.1 - Tratores e Colheitadeiras</td>\n",
       "      <td>0</td>\n",
       "      <td>0</td>\n",
       "    </tr>\n",
       "    <tr>\n",
       "      <th>4</th>\n",
       "      <td>\\t \\t \\t \\t \\t \\t3.2 - Conjunto de Irrigação</td>\n",
       "      <td>0</td>\n",
       "      <td>0</td>\n",
       "    </tr>\n",
       "    <tr>\n",
       "      <th>5</th>\n",
       "      <td>4 - Aluguel de Máquinas</td>\n",
       "      <td>0</td>\n",
       "      <td>0</td>\n",
       "    </tr>\n",
       "    <tr>\n",
       "      <th>6</th>\n",
       "      <td>5 - Aluguel de Animais</td>\n",
       "      <td>0</td>\n",
       "      <td>0</td>\n",
       "    </tr>\n",
       "    <tr>\n",
       "      <th>7</th>\n",
       "      <td>6 - Mão de obra</td>\n",
       "      <td>4633.8</td>\n",
       "      <td>6.20542</td>\n",
       "    </tr>\n",
       "    <tr>\n",
       "      <th>8</th>\n",
       "      <td>7 - Administrador</td>\n",
       "      <td>290.88</td>\n",
       "      <td>0.38954</td>\n",
       "    </tr>\n",
       "    <tr>\n",
       "      <th>9</th>\n",
       "      <td>8 - Sementes e mudas</td>\n",
       "      <td>0</td>\n",
       "      <td>0</td>\n",
       "    </tr>\n",
       "    <tr>\n",
       "      <th>10</th>\n",
       "      <td>9 - Fertilizantes</td>\n",
       "      <td>2000</td>\n",
       "      <td>2.67833</td>\n",
       "    </tr>\n",
       "    <tr>\n",
       "      <th>11</th>\n",
       "      <td>10 - Agrotóxicos</td>\n",
       "      <td>170</td>\n",
       "      <td>0.22766</td>\n",
       "    </tr>\n",
       "    <tr>\n",
       "      <th>12</th>\n",
       "      <td>11 - Receita</td>\n",
       "      <td>0</td>\n",
       "      <td>0</td>\n",
       "    </tr>\n",
       "    <tr>\n",
       "      <th>13</th>\n",
       "      <td>\\t \\t \\t \\t \\t \\t12.1 - Embalagens/Utensílios</td>\n",
       "      <td>0</td>\n",
       "      <td>0</td>\n",
       "    </tr>\n",
       "    <tr>\n",
       "      <th>14</th>\n",
       "      <td>\\t \\t \\t \\t \\t \\t12.2 - Análise de Solo</td>\n",
       "      <td>0</td>\n",
       "      <td>0</td>\n",
       "    </tr>\n",
       "    <tr>\n",
       "      <th>15</th>\n",
       "      <td>\\t \\t \\t \\t \\t \\t12.3 - Demais Despesas</td>\n",
       "      <td>0</td>\n",
       "      <td>0</td>\n",
       "    </tr>\n",
       "    <tr>\n",
       "      <th>16</th>\n",
       "      <td>13 - Serviços Diversos</td>\n",
       "      <td>0</td>\n",
       "      <td>0</td>\n",
       "    </tr>\n",
       "    <tr>\n",
       "      <th>17</th>\n",
       "      <td>TOTAL DAS DESPESAS DE CUSTEIO (A)</td>\n",
       "      <td>7094.68</td>\n",
       "      <td>9.50095</td>\n",
       "    </tr>\n",
       "    <tr>\n",
       "      <th>18</th>\n",
       "      <td>14 - Transporte Externo</td>\n",
       "      <td>1866.9</td>\n",
       "      <td>2.50009</td>\n",
       "    </tr>\n",
       "    <tr>\n",
       "      <th>19</th>\n",
       "      <td>15 - Despesas Administrativas</td>\n",
       "      <td>212.84</td>\n",
       "      <td>0.28503</td>\n",
       "    </tr>\n",
       "    <tr>\n",
       "      <th>20</th>\n",
       "      <td>16 - Despesas de armazenagem</td>\n",
       "      <td>0</td>\n",
       "      <td>0</td>\n",
       "    </tr>\n",
       "    <tr>\n",
       "      <th>21</th>\n",
       "      <td>17 - Beneficiamento</td>\n",
       "      <td>0</td>\n",
       "      <td>0</td>\n",
       "    </tr>\n",
       "    <tr>\n",
       "      <th>22</th>\n",
       "      <td>18 - Seguro da Produção</td>\n",
       "      <td>0</td>\n",
       "      <td>0</td>\n",
       "    </tr>\n",
       "    <tr>\n",
       "      <th>23</th>\n",
       "      <td>19 - Seguro do crédito</td>\n",
       "      <td>0</td>\n",
       "      <td>0</td>\n",
       "    </tr>\n",
       "    <tr>\n",
       "      <th>24</th>\n",
       "      <td>20 - Assistência Técnica</td>\n",
       "      <td>0</td>\n",
       "      <td>0</td>\n",
       "    </tr>\n",
       "    <tr>\n",
       "      <th>25</th>\n",
       "      <td>21 - Classificação</td>\n",
       "      <td>0</td>\n",
       "      <td>0</td>\n",
       "    </tr>\n",
       "    <tr>\n",
       "      <th>26</th>\n",
       "      <td>22 - Outros</td>\n",
       "      <td>0</td>\n",
       "      <td>0</td>\n",
       "    </tr>\n",
       "    <tr>\n",
       "      <th>27</th>\n",
       "      <td>23 - CESSR</td>\n",
       "      <td>224.02</td>\n",
       "      <td>0.3</td>\n",
       "    </tr>\n",
       "    <tr>\n",
       "      <th>28</th>\n",
       "      <td>TOTAL DAS OUTRAS DESPESAS (B)</td>\n",
       "      <td>2303.76</td>\n",
       "      <td>3.08512</td>\n",
       "    </tr>\n",
       "    <tr>\n",
       "      <th>29</th>\n",
       "      <td>24 - Juros do Financiamento</td>\n",
       "      <td>910.57</td>\n",
       "      <td>1.21941</td>\n",
       "    </tr>\n",
       "    <tr>\n",
       "      <th>30</th>\n",
       "      <td>TOTAL DAS DESPESAS FINANCEIRAS (C)</td>\n",
       "      <td>910.57</td>\n",
       "      <td>1.21941</td>\n",
       "    </tr>\n",
       "    <tr>\n",
       "      <th>31</th>\n",
       "      <td>CUSTO VARIÁVEL (A+B+C=D)</td>\n",
       "      <td>10309.01</td>\n",
       "      <td>13.80548</td>\n",
       "    </tr>\n",
       "    <tr>\n",
       "      <th>32</th>\n",
       "      <td>25 - Depreciação de benfeitorias/instalações</td>\n",
       "      <td>0</td>\n",
       "      <td>0</td>\n",
       "    </tr>\n",
       "    <tr>\n",
       "      <th>33</th>\n",
       "      <td>26 - Depreciação de implementos</td>\n",
       "      <td>0</td>\n",
       "      <td>0</td>\n",
       "    </tr>\n",
       "    <tr>\n",
       "      <th>34</th>\n",
       "      <td>27 - Depreciação de Máquinas</td>\n",
       "      <td>0</td>\n",
       "      <td>0</td>\n",
       "    </tr>\n",
       "    <tr>\n",
       "      <th>35</th>\n",
       "      <td>28 - Exaustão do cultivo</td>\n",
       "      <td>1034.19</td>\n",
       "      <td>1.38495</td>\n",
       "    </tr>\n",
       "    <tr>\n",
       "      <th>36</th>\n",
       "      <td>TOTAL DE DEPRECIAÇÕES (E)</td>\n",
       "      <td>1034.19</td>\n",
       "      <td>1.38495</td>\n",
       "    </tr>\n",
       "    <tr>\n",
       "      <th>37</th>\n",
       "      <td>29 - Manutenção Periódica Benfeitorias/Instala...</td>\n",
       "      <td>443.21</td>\n",
       "      <td>0.59353</td>\n",
       "    </tr>\n",
       "    <tr>\n",
       "      <th>38</th>\n",
       "      <td>30 - Encargos Sociais</td>\n",
       "      <td>132.61</td>\n",
       "      <td>0.17759</td>\n",
       "    </tr>\n",
       "    <tr>\n",
       "      <th>39</th>\n",
       "      <td>31 - Seguro do capital fixo</td>\n",
       "      <td>0</td>\n",
       "      <td>0</td>\n",
       "    </tr>\n",
       "    <tr>\n",
       "      <th>40</th>\n",
       "      <td>32 - Arrendamento</td>\n",
       "      <td>186.69</td>\n",
       "      <td>0.25001</td>\n",
       "    </tr>\n",
       "    <tr>\n",
       "      <th>41</th>\n",
       "      <td>TOTAL DE OUTROS CUSTOS FIXOS (F)</td>\n",
       "      <td>762.51</td>\n",
       "      <td>1.02113</td>\n",
       "    </tr>\n",
       "    <tr>\n",
       "      <th>42</th>\n",
       "      <td>CUSTO FIXO (E+F=G)</td>\n",
       "      <td>1796.7</td>\n",
       "      <td>2.40608</td>\n",
       "    </tr>\n",
       "    <tr>\n",
       "      <th>43</th>\n",
       "      <td>CUSTO OPERACIONAL (D+G=H)</td>\n",
       "      <td>12105.71</td>\n",
       "      <td>16.21156</td>\n",
       "    </tr>\n",
       "    <tr>\n",
       "      <th>44</th>\n",
       "      <td>33 - Remuneração esperada sobre o capital fixo</td>\n",
       "      <td>0</td>\n",
       "      <td>0</td>\n",
       "    </tr>\n",
       "    <tr>\n",
       "      <th>45</th>\n",
       "      <td>34 - Remuneração esperada sobre o cultivo</td>\n",
       "      <td>22.44</td>\n",
       "      <td>0.03005</td>\n",
       "    </tr>\n",
       "    <tr>\n",
       "      <th>46</th>\n",
       "      <td>35 - Terra Própria</td>\n",
       "      <td>1855.35</td>\n",
       "      <td>2.48462</td>\n",
       "    </tr>\n",
       "    <tr>\n",
       "      <th>47</th>\n",
       "      <td>TOTAL DE RENDA DE FATORES (F)</td>\n",
       "      <td>1877.79</td>\n",
       "      <td>2.51467</td>\n",
       "    </tr>\n",
       "    <tr>\n",
       "      <th>48</th>\n",
       "      <td>CUSTO TOTAL (H+I=J)</td>\n",
       "      <td>13983.5</td>\n",
       "      <td>18.72623</td>\n",
       "    </tr>\n",
       "  </tbody>\n",
       "</table>\n",
       "</div>"
      ],
      "text/plain": [
       "                  Produtividade Média: 11201,00 kg/ha CUSTO_ha_2022  \\\n",
       "0                                       DISCRIMINAÇÃO  CUSTO POR HA   \n",
       "1                             1 - Operação com animal             0   \n",
       "2                              2 - Operação com Avião             0   \n",
       "3    \\t \\t \\t \\t \\t \\t3.1 - Tratores e Colheitadeiras             0   \n",
       "4        \\t \\t \\t \\t \\t \\t3.2 - Conjunto de Irrigação             0   \n",
       "5                             4 - Aluguel de Máquinas             0   \n",
       "6                              5 - Aluguel de Animais             0   \n",
       "7                                     6 - Mão de obra        4633.8   \n",
       "8                                   7 - Administrador        290.88   \n",
       "9                                8 - Sementes e mudas             0   \n",
       "10                                  9 - Fertilizantes          2000   \n",
       "11                                   10 - Agrotóxicos           170   \n",
       "12                                       11 - Receita             0   \n",
       "13      \\t \\t \\t \\t \\t \\t12.1 - Embalagens/Utensílios             0   \n",
       "14            \\t \\t \\t \\t \\t \\t12.2 - Análise de Solo             0   \n",
       "15            \\t \\t \\t \\t \\t \\t12.3 - Demais Despesas             0   \n",
       "16                             13 - Serviços Diversos             0   \n",
       "17                  TOTAL DAS DESPESAS DE CUSTEIO (A)       7094.68   \n",
       "18                            14 - Transporte Externo        1866.9   \n",
       "19                      15 - Despesas Administrativas        212.84   \n",
       "20                       16 - Despesas de armazenagem             0   \n",
       "21                                17 - Beneficiamento             0   \n",
       "22                            18 - Seguro da Produção             0   \n",
       "23                             19 - Seguro do crédito             0   \n",
       "24                           20 - Assistência Técnica             0   \n",
       "25                                 21 - Classificação             0   \n",
       "26                                        22 - Outros             0   \n",
       "27                                         23 - CESSR        224.02   \n",
       "28                      TOTAL DAS OUTRAS DESPESAS (B)       2303.76   \n",
       "29                        24 - Juros do Financiamento        910.57   \n",
       "30                 TOTAL DAS DESPESAS FINANCEIRAS (C)        910.57   \n",
       "31                           CUSTO VARIÁVEL (A+B+C=D)      10309.01   \n",
       "32       25 - Depreciação de benfeitorias/instalações             0   \n",
       "33                    26 - Depreciação de implementos             0   \n",
       "34                       27 - Depreciação de Máquinas             0   \n",
       "35                           28 - Exaustão do cultivo       1034.19   \n",
       "36                          TOTAL DE DEPRECIAÇÕES (E)       1034.19   \n",
       "37  29 - Manutenção Periódica Benfeitorias/Instala...        443.21   \n",
       "38                              30 - Encargos Sociais        132.61   \n",
       "39                        31 - Seguro do capital fixo             0   \n",
       "40                                  32 - Arrendamento        186.69   \n",
       "41                   TOTAL DE OUTROS CUSTOS FIXOS (F)        762.51   \n",
       "42                                 CUSTO FIXO (E+F=G)        1796.7   \n",
       "43                          CUSTO OPERACIONAL (D+G=H)      12105.71   \n",
       "44     33 - Remuneração esperada sobre o capital fixo             0   \n",
       "45          34 - Remuneração esperada sobre o cultivo         22.44   \n",
       "46                                 35 - Terra Própria       1855.35   \n",
       "47                      TOTAL DE RENDA DE FATORES (F)       1877.79   \n",
       "48                                CUSTO TOTAL (H+I=J)       13983.5   \n",
       "\n",
       "   CUSTO_15kg_2022  \n",
       "0   CUSTO /  15 kg  \n",
       "1                0  \n",
       "2                0  \n",
       "3                0  \n",
       "4                0  \n",
       "5                0  \n",
       "6                0  \n",
       "7          6.20542  \n",
       "8          0.38954  \n",
       "9                0  \n",
       "10         2.67833  \n",
       "11         0.22766  \n",
       "12               0  \n",
       "13               0  \n",
       "14               0  \n",
       "15               0  \n",
       "16               0  \n",
       "17         9.50095  \n",
       "18         2.50009  \n",
       "19         0.28503  \n",
       "20               0  \n",
       "21               0  \n",
       "22               0  \n",
       "23               0  \n",
       "24               0  \n",
       "25               0  \n",
       "26               0  \n",
       "27             0.3  \n",
       "28         3.08512  \n",
       "29         1.21941  \n",
       "30         1.21941  \n",
       "31        13.80548  \n",
       "32               0  \n",
       "33               0  \n",
       "34               0  \n",
       "35         1.38495  \n",
       "36         1.38495  \n",
       "37         0.59353  \n",
       "38         0.17759  \n",
       "39               0  \n",
       "40         0.25001  \n",
       "41         1.02113  \n",
       "42         2.40608  \n",
       "43        16.21156  \n",
       "44               0  \n",
       "45         0.03005  \n",
       "46         2.48462  \n",
       "47         2.51467  \n",
       "48        18.72623  "
      ]
     },
     "execution_count": 929,
     "metadata": {},
     "output_type": "execute_result"
    }
   ],
   "source": [
    "dados"
   ]
  },
  {
   "cell_type": "code",
   "execution_count": 930,
   "id": "0dc04da3",
   "metadata": {},
   "outputs": [
    {
     "data": {
      "text/plain": [
       "Index(['Produtividade Média: 11201,00 kg/ha', 'CUSTO_ha_2022',\n",
       "       'CUSTO_15kg_2022'],\n",
       "      dtype='object')"
      ]
     },
     "execution_count": 930,
     "metadata": {},
     "output_type": "execute_result"
    }
   ],
   "source": [
    "dados.columns"
   ]
  },
  {
   "cell_type": "code",
   "execution_count": 931,
   "id": "bce86acc",
   "metadata": {},
   "outputs": [],
   "source": [
    "dados_21= pd.read_excel('Erva_Mate_Serie_Historica_2014-2022.xlsx', sheet_name='Ilópolis-RS-2021', usecols='A:C', header=5, index_col=[0])"
   ]
  },
  {
   "cell_type": "code",
   "execution_count": 932,
   "id": "7de6e6cb",
   "metadata": {},
   "outputs": [],
   "source": [
    "dados_21b= dados_21.rename(columns={'Ex-Ant': \"custo_ha_21\", 'Unnamed: 2': 'Custo_15kg_21'})\n"
   ]
  },
  {
   "cell_type": "code",
   "execution_count": 933,
   "id": "f1da8d12",
   "metadata": {},
   "outputs": [],
   "source": [
    "df_20=pd.read_excel('Erva_Mate_Serie_Historica_2014-2022.xlsx',  sheet_name='Ilópolis-RS-2020', usecols='A:C', header=5, index_col=[0])"
   ]
  },
  {
   "cell_type": "code",
   "execution_count": 934,
   "id": "d589dbf1",
   "metadata": {},
   "outputs": [],
   "source": [
    "df_19=pd.read_excel('Erva_Mate_Serie_Historica_2014-2022.xlsx',  sheet_name='Ilópolis-RS-2019', usecols='A:C', header=5, index_col=[0])"
   ]
  },
  {
   "cell_type": "code",
   "execution_count": 935,
   "id": "52020404",
   "metadata": {},
   "outputs": [
    {
     "data": {
      "text/html": [
       "<div>\n",
       "<style scoped>\n",
       "    .dataframe tbody tr th:only-of-type {\n",
       "        vertical-align: middle;\n",
       "    }\n",
       "\n",
       "    .dataframe tbody tr th {\n",
       "        vertical-align: top;\n",
       "    }\n",
       "\n",
       "    .dataframe thead th {\n",
       "        text-align: right;\n",
       "    }\n",
       "</style>\n",
       "<table border=\"1\" class=\"dataframe\">\n",
       "  <thead>\n",
       "    <tr style=\"text-align: right;\">\n",
       "      <th></th>\n",
       "      <th>Custo_ha_22</th>\n",
       "      <th>Custo_ha_21</th>\n",
       "      <th>Custo_ha_20</th>\n",
       "      <th>Custo_ha_19</th>\n",
       "    </tr>\n",
       "  </thead>\n",
       "  <tbody>\n",
       "    <tr>\n",
       "      <th>custos</th>\n",
       "      <td>7094.68</td>\n",
       "      <td>6057.80</td>\n",
       "      <td>3444.80</td>\n",
       "      <td>3431.32</td>\n",
       "    </tr>\n",
       "    <tr>\n",
       "      <th>despesas</th>\n",
       "      <td>2303.76</td>\n",
       "      <td>1888.07</td>\n",
       "      <td>690.66</td>\n",
       "      <td>690.27</td>\n",
       "    </tr>\n",
       "    <tr>\n",
       "      <th>depreciacao</th>\n",
       "      <td>1034.19</td>\n",
       "      <td>606.65</td>\n",
       "      <td>539.32</td>\n",
       "      <td>535.61</td>\n",
       "    </tr>\n",
       "  </tbody>\n",
       "</table>\n",
       "</div>"
      ],
      "text/plain": [
       "             Custo_ha_22  Custo_ha_21  Custo_ha_20  Custo_ha_19\n",
       "custos           7094.68      6057.80      3444.80      3431.32\n",
       "despesas         2303.76      1888.07       690.66       690.27\n",
       "depreciacao      1034.19       606.65       539.32       535.61"
      ]
     },
     "execution_count": 935,
     "metadata": {},
     "output_type": "execute_result"
    }
   ],
   "source": [
    "custo_ha_1 = {'Custo_ha_22': [7094.68, 2303.76, 1034.19], 'Custo_ha_21': [6057.8, 1888.07, 606.65], 'Custo_ha_20': [3444.80, 690.66, 539.32], 'Custo_ha_19':[3431.32, 690.27, 535.61]}\n",
    "\n",
    "custo_ha_1 = pd.DataFrame(data=custo_ha_1)\n",
    "custo_ha_1.rename(index={0:'custos', 1:'despesas', 2:'depreciacao'})\n"
   ]
  },
  {
   "cell_type": "code",
   "execution_count": 936,
   "id": "b0631897",
   "metadata": {},
   "outputs": [
    {
     "data": {
      "text/plain": [
       "Text(0.5, 0, 'Custos, despesas e depreciações por ha')"
      ]
     },
     "execution_count": 936,
     "metadata": {},
     "output_type": "execute_result"
    },
    {
     "data": {
      "text/plain": [
       "<Figure size 1296x576 with 0 Axes>"
      ]
     },
     "metadata": {},
     "output_type": "display_data"
    },
    {
     "data": {
      "image/png": "[encoded data removed]",
      "text/plain": [
       "<Figure size 432x288 with 1 Axes>"
      ]
     },
     "metadata": {
      "needs_background": "light"
     },
     "output_type": "display_data"
    }
   ],
   "source": [
    "plt.figure(figsize=(18,8))\n",
    "custo_ha_1.plot()\n",
    "plt.title(\"Custos, despesas e depreciações por hectare de erva mate de 2019 a 2022\",fontsize=18, y=1.05)\n",
    "plt.ylabel('R$',fontsize=18)\n",
    "plt.xlabel('Custos, despesas e depreciações por ha',fontsize=18)"
   ]
  },
  {
   "cell_type": "markdown",
   "id": "485e7be2",
   "metadata": {},
   "source": [
    "## Pelo gráfico pode-se observar o comportamento das despesas/custos possuem o mesmo perfil ao passar dos anos. Sendo que as despesas de custeio são maiores comparadas as outras despesas e depreciação. Está associado aos custos de mão de obra, fertilizantes e agrotóxicos. O que mais agrega nas outras despesas são os valores de transporte."
   ]
  },
  {
   "cell_type": "code",
   "execution_count": 937,
   "id": "a4065701",
   "metadata": {},
   "outputs": [
    {
     "data": {
      "text/html": [
       "<div>\n",
       "<style scoped>\n",
       "    .dataframe tbody tr th:only-of-type {\n",
       "        vertical-align: middle;\n",
       "    }\n",
       "\n",
       "    .dataframe tbody tr th {\n",
       "        vertical-align: top;\n",
       "    }\n",
       "\n",
       "    .dataframe thead th {\n",
       "        text-align: right;\n",
       "    }\n",
       "</style>\n",
       "<table border=\"1\" class=\"dataframe\">\n",
       "  <thead>\n",
       "    <tr style=\"text-align: right;\">\n",
       "      <th></th>\n",
       "      <th>Custo_15kg_22</th>\n",
       "      <th>Custo_15kg_21</th>\n",
       "      <th>Custo_15kg_20</th>\n",
       "      <th>Custo_15kg_19</th>\n",
       "    </tr>\n",
       "  </thead>\n",
       "  <tbody>\n",
       "    <tr>\n",
       "      <th>custos</th>\n",
       "      <td>9.50095</td>\n",
       "      <td>8.11240</td>\n",
       "      <td>7.10</td>\n",
       "      <td>7.08</td>\n",
       "    </tr>\n",
       "    <tr>\n",
       "      <th>despesas</th>\n",
       "      <td>3.08512</td>\n",
       "      <td>2.52844</td>\n",
       "      <td>1.42</td>\n",
       "      <td>1.42</td>\n",
       "    </tr>\n",
       "    <tr>\n",
       "      <th>depreciacao</th>\n",
       "      <td>1.38495</td>\n",
       "      <td>0.81241</td>\n",
       "      <td>1.11</td>\n",
       "      <td>1.10</td>\n",
       "    </tr>\n",
       "  </tbody>\n",
       "</table>\n",
       "</div>"
      ],
      "text/plain": [
       "             Custo_15kg_22  Custo_15kg_21  Custo_15kg_20  Custo_15kg_19\n",
       "custos             9.50095        8.11240           7.10           7.08\n",
       "despesas           3.08512        2.52844           1.42           1.42\n",
       "depreciacao        1.38495        0.81241           1.11           1.10"
      ]
     },
     "execution_count": 937,
     "metadata": {},
     "output_type": "execute_result"
    }
   ],
   "source": [
    "custo_15kg = {'Custo_15kg_22':[9.50095, 3.08512, 1.38495], 'Custo_15kg_21': [8.1124, 2.52844, 0.81241],  'Custo_15kg_20': [7.10, 1.42, 1.11], 'Custo_15kg_19': [7.08, 1.42, 1.10]}\n",
    "custo_15kg=pd.DataFrame(custo_15kg)\n",
    "custo_15kg.rename(index={0:'custos', 1:'despesas', 2:'depreciacao'})"
   ]
  },
  {
   "cell_type": "code",
   "execution_count": 938,
   "id": "bde8c08d",
   "metadata": {},
   "outputs": [
    {
     "data": {
      "text/plain": [
       "Text(0.5, 0, 'Custos, despesas e depreciações')"
      ]
     },
     "execution_count": 938,
     "metadata": {},
     "output_type": "execute_result"
    },
    {
     "data": {
      "text/plain": [
       "<Figure size 1440x576 with 0 Axes>"
      ]
     },
     "metadata": {},
     "output_type": "display_data"
    },
    {
     "data": {
      "image/png": "[encoded data removed]",
      "text/plain": [
       "<Figure size 432x288 with 1 Axes>"
      ]
     },
     "metadata": {
      "needs_background": "light"
     },
     "output_type": "display_data"
    }
   ],
   "source": [
    "plt.figure(figsize=(20,8))\n",
    "custo_15kg.plot()\n",
    "plt.title(\"Custos, despesas e depreciações por 15kg de erva mate de 2019 a 2022\",fontsize=18, y=1.05)\n",
    "plt.ylabel('R$',fontsize=18)\n",
    "plt.xlabel('Custos, despesas e depreciações',fontsize=18)"
   ]
  },
  {
   "cell_type": "markdown",
   "id": "c29b1942",
   "metadata": {},
   "source": [
    "# Mesmo comportamento no gráfico por 15kg de produto, aumenta com o passar do tempo, considerando as despesas, custos e depreciação."
   ]
  },
  {
   "cell_type": "code",
   "execution_count": 939,
   "id": "e0dfa0b4",
   "metadata": {},
   "outputs": [
    {
     "data": {
      "text/html": [
       "<div>\n",
       "<style scoped>\n",
       "    .dataframe tbody tr th:only-of-type {\n",
       "        vertical-align: middle;\n",
       "    }\n",
       "\n",
       "    .dataframe tbody tr th {\n",
       "        vertical-align: top;\n",
       "    }\n",
       "\n",
       "    .dataframe thead th {\n",
       "        text-align: right;\n",
       "    }\n",
       "</style>\n",
       "<table border=\"1\" class=\"dataframe\">\n",
       "  <thead>\n",
       "    <tr style=\"text-align: right;\">\n",
       "      <th></th>\n",
       "      <th>0</th>\n",
       "    </tr>\n",
       "  </thead>\n",
       "  <tbody>\n",
       "    <tr>\n",
       "      <th>Custo_total_22</th>\n",
       "      <td>13983.50</td>\n",
       "    </tr>\n",
       "    <tr>\n",
       "      <th>Custo_total_21</th>\n",
       "      <td>9796.30</td>\n",
       "    </tr>\n",
       "    <tr>\n",
       "      <th>Custo_total_20</th>\n",
       "      <td>5168.73</td>\n",
       "    </tr>\n",
       "    <tr>\n",
       "      <th>Custo_total_19</th>\n",
       "      <td>5249.37</td>\n",
       "    </tr>\n",
       "  </tbody>\n",
       "</table>\n",
       "</div>"
      ],
      "text/plain": [
       "                       0\n",
       "Custo_total_22  13983.50\n",
       "Custo_total_21   9796.30\n",
       "Custo_total_20   5168.73\n",
       "Custo_total_19   5249.37"
      ]
     },
     "execution_count": 939,
     "metadata": {},
     "output_type": "execute_result"
    }
   ],
   "source": [
    "custo_total={'Custo_total_22': [13983.50], 'Custo_total_21':  [9796.30],  'Custo_total_20':  [5168.73], 'Custo_total_19': [5249.37]}\n",
    "custo_total=pd.DataFrame(custo_total)\n",
    "custo_total.T"
   ]
  },
  {
   "cell_type": "code",
   "execution_count": 940,
   "id": "b9581988",
   "metadata": {},
   "outputs": [
    {
     "data": {
      "text/plain": [
       "Text(0.5, 0, 'Custos totais por ano')"
      ]
     },
     "execution_count": 940,
     "metadata": {},
     "output_type": "execute_result"
    },
    {
     "data": {
      "text/plain": [
       "<Figure size 1440x576 with 0 Axes>"
      ]
     },
     "metadata": {},
     "output_type": "display_data"
    },
    {
     "data": {
      "image/png": "[encoded data removed]",
      "text/plain": [
       "<Figure size 432x288 with 1 Axes>"
      ]
     },
     "metadata": {
      "needs_background": "light"
     },
     "output_type": "display_data"
    }
   ],
   "source": [
    "plt.figure(figsize=(20,8))\n",
    "custo_total.T.plot()\n",
    "plt.title(\"Custos Totais para produção erva mate de 2019 a 2022\",fontsize=18, y=1.05)\n",
    "plt.ylabel('R$',fontsize=18)\n",
    "plt.xlabel('Custos totais por ano',fontsize=18)"
   ]
  },
  {
   "cell_type": "markdown",
   "id": "c0ddb5b2",
   "metadata": {},
   "source": [
    "\n"
   ]
  },
  {
   "cell_type": "code",
   "execution_count": 941,
   "id": "dfe795d2",
   "metadata": {},
   "outputs": [
    {
     "data": {
      "text/plain": [
       "0    8549.475\n",
       "dtype: float64"
      ]
     },
     "execution_count": 941,
     "metadata": {},
     "output_type": "execute_result"
    }
   ],
   "source": [
    "custo_total.T.mean()"
   ]
  },
  {
   "cell_type": "code",
   "execution_count": 942,
   "id": "6286fa95",
   "metadata": {},
   "outputs": [
    {
     "data": {
      "text/plain": [
       "0    4219.136169\n",
       "dtype: float64"
      ]
     },
     "execution_count": 942,
     "metadata": {},
     "output_type": "execute_result"
    }
   ],
   "source": [
    "custo_total.T.std()"
   ]
  },
  {
   "cell_type": "code",
   "execution_count": 943,
   "id": "cec09573",
   "metadata": {},
   "outputs": [
    {
     "data": {
      "text/plain": [
       "0    5168.73\n",
       "dtype: float64"
      ]
     },
     "execution_count": 943,
     "metadata": {},
     "output_type": "execute_result"
    }
   ],
   "source": [
    "custo_total.T.min()"
   ]
  },
  {
   "cell_type": "code",
   "execution_count": 944,
   "id": "677f0062",
   "metadata": {},
   "outputs": [
    {
     "data": {
      "text/plain": [
       "0    13983.5\n",
       "dtype: float64"
      ]
     },
     "execution_count": 944,
     "metadata": {},
     "output_type": "execute_result"
    }
   ],
   "source": [
    "custo_total.T.max()"
   ]
  },
  {
   "cell_type": "markdown",
   "id": "546e2b5f",
   "metadata": {},
   "source": [
    "# Custos totais de produção de erva mate, no período de 2022 à 2019 (reais/ha)\n",
    "### Observa-se que os custos totais mais que duplicaram a partir de 2020 com aumento de 270%.\n",
    "### Saindo de um custo total min de 5.180 em (2020) para o valor máximo de13.983 em (2022)"
   ]
  },
  {
   "cell_type": "code",
   "execution_count": null,
   "id": "c094df79",
   "metadata": {},
   "outputs": [],
   "source": []
  },
  {
   "cell_type": "markdown",
   "id": "251194d0",
   "metadata": {},
   "source": [
    "## Abaixo foi considerado outro dataset, com o valor da produção de erva mate em Mil reais, para todo o Brasil, fonte baixada do site do ibge: em 09/08/22 https://www.ibge.gov.br/explica/producao-agropecuaria/erva-mate-cultivo/br"
   ]
  },
  {
   "cell_type": "code",
   "execution_count": 945,
   "id": "19127422",
   "metadata": {},
   "outputs": [
    {
     "data": {
      "text/html": [
       "<div>\n",
       "<style scoped>\n",
       "    .dataframe tbody tr th:only-of-type {\n",
       "        vertical-align: middle;\n",
       "    }\n",
       "\n",
       "    .dataframe tbody tr th {\n",
       "        vertical-align: top;\n",
       "    }\n",
       "\n",
       "    .dataframe thead th {\n",
       "        text-align: right;\n",
       "    }\n",
       "</style>\n",
       "<table border=\"1\" class=\"dataframe\">\n",
       "  <thead>\n",
       "    <tr style=\"text-align: right;\">\n",
       "      <th></th>\n",
       "      <th>Erva-mate (cultivo) - Valor da produção (Mil Reais)</th>\n",
       "      <th>Unnamed: 1</th>\n",
       "      <th>Unnamed: 2</th>\n",
       "    </tr>\n",
       "  </thead>\n",
       "  <tbody>\n",
       "    <tr>\n",
       "      <th>0</th>\n",
       "      <td>periodos</td>\n",
       "      <td>valor</td>\n",
       "      <td>NaN</td>\n",
       "    </tr>\n",
       "    <tr>\n",
       "      <th>1</th>\n",
       "      <td>2016</td>\n",
       "      <td>555.171</td>\n",
       "      <td>NaN</td>\n",
       "    </tr>\n",
       "    <tr>\n",
       "      <th>2</th>\n",
       "      <td>2017</td>\n",
       "      <td>494.263</td>\n",
       "      <td>NaN</td>\n",
       "    </tr>\n",
       "    <tr>\n",
       "      <th>3</th>\n",
       "      <td>2018</td>\n",
       "      <td>426.368</td>\n",
       "      <td>NaN</td>\n",
       "    </tr>\n",
       "    <tr>\n",
       "      <th>4</th>\n",
       "      <td>2019</td>\n",
       "      <td>482.003</td>\n",
       "      <td>NaN</td>\n",
       "    </tr>\n",
       "    <tr>\n",
       "      <th>5</th>\n",
       "      <td>2020</td>\n",
       "      <td>576.805</td>\n",
       "      <td>NaN</td>\n",
       "    </tr>\n",
       "    <tr>\n",
       "      <th>6</th>\n",
       "      <td>Fonte: PAM</td>\n",
       "      <td>NaN</td>\n",
       "      <td>NaN</td>\n",
       "    </tr>\n",
       "    <tr>\n",
       "      <th>7</th>\n",
       "      <td>NaN</td>\n",
       "      <td>NaN</td>\n",
       "      <td>NaN</td>\n",
       "    </tr>\n",
       "  </tbody>\n",
       "</table>\n",
       "</div>"
      ],
      "text/plain": [
       "  Erva-mate (cultivo) - Valor da produção (Mil Reais) Unnamed: 1  Unnamed: 2\n",
       "0                                           periodos       valor         NaN\n",
       "1                                               2016     555.171         NaN\n",
       "2                                               2017     494.263         NaN\n",
       "3                                               2018     426.368         NaN\n",
       "4                                               2019     482.003         NaN\n",
       "5                                               2020     576.805         NaN\n",
       "6                                         Fonte: PAM         NaN         NaN\n",
       "7                                                NaN         NaN         NaN"
      ]
     },
     "execution_count": 945,
     "metadata": {},
     "output_type": "execute_result"
    }
   ],
   "source": [
    "valor=pd.read_csv('ervamate-cultivo-valor-da-produo-mil-reais.csv')\n",
    "valor"
   ]
  },
  {
   "cell_type": "code",
   "execution_count": 946,
   "id": "76fab107",
   "metadata": {},
   "outputs": [
    {
     "data": {
      "text/html": [
       "<div>\n",
       "<style scoped>\n",
       "    .dataframe tbody tr th:only-of-type {\n",
       "        vertical-align: middle;\n",
       "    }\n",
       "\n",
       "    .dataframe tbody tr th {\n",
       "        vertical-align: top;\n",
       "    }\n",
       "\n",
       "    .dataframe thead th {\n",
       "        text-align: right;\n",
       "    }\n",
       "</style>\n",
       "<table border=\"1\" class=\"dataframe\">\n",
       "  <thead>\n",
       "    <tr style=\"text-align: right;\">\n",
       "      <th></th>\n",
       "      <th>Erva-mate (cultivo) - Valor da produção (Mil Reais)</th>\n",
       "      <th>Unnamed: 1</th>\n",
       "      <th>Unnamed: 2</th>\n",
       "    </tr>\n",
       "  </thead>\n",
       "  <tbody>\n",
       "    <tr>\n",
       "      <th>1</th>\n",
       "      <td>2016</td>\n",
       "      <td>555.171</td>\n",
       "      <td>NaN</td>\n",
       "    </tr>\n",
       "    <tr>\n",
       "      <th>2</th>\n",
       "      <td>2017</td>\n",
       "      <td>494.263</td>\n",
       "      <td>NaN</td>\n",
       "    </tr>\n",
       "    <tr>\n",
       "      <th>3</th>\n",
       "      <td>2018</td>\n",
       "      <td>426.368</td>\n",
       "      <td>NaN</td>\n",
       "    </tr>\n",
       "    <tr>\n",
       "      <th>4</th>\n",
       "      <td>2019</td>\n",
       "      <td>482.003</td>\n",
       "      <td>NaN</td>\n",
       "    </tr>\n",
       "    <tr>\n",
       "      <th>5</th>\n",
       "      <td>2020</td>\n",
       "      <td>576.805</td>\n",
       "      <td>NaN</td>\n",
       "    </tr>\n",
       "  </tbody>\n",
       "</table>\n",
       "</div>"
      ],
      "text/plain": [
       "  Erva-mate (cultivo) - Valor da produção (Mil Reais) Unnamed: 1  Unnamed: 2\n",
       "1                                               2016     555.171         NaN\n",
       "2                                               2017     494.263         NaN\n",
       "3                                               2018     426.368         NaN\n",
       "4                                               2019     482.003         NaN\n",
       "5                                               2020     576.805         NaN"
      ]
     },
     "execution_count": 946,
     "metadata": {},
     "output_type": "execute_result"
    }
   ],
   "source": [
    "valor_total=valor[1:6]\n",
    "valor_total"
   ]
  },
  {
   "cell_type": "code",
   "execution_count": 947,
   "id": "a9317c4d",
   "metadata": {},
   "outputs": [
    {
     "data": {
      "text/html": [
       "<div>\n",
       "<style scoped>\n",
       "    .dataframe tbody tr th:only-of-type {\n",
       "        vertical-align: middle;\n",
       "    }\n",
       "\n",
       "    .dataframe tbody tr th {\n",
       "        vertical-align: top;\n",
       "    }\n",
       "\n",
       "    .dataframe thead th {\n",
       "        text-align: right;\n",
       "    }\n",
       "</style>\n",
       "<table border=\"1\" class=\"dataframe\">\n",
       "  <thead>\n",
       "    <tr style=\"text-align: right;\">\n",
       "      <th></th>\n",
       "      <th>cultivo</th>\n",
       "      <th>valor_reais</th>\n",
       "      <th>Unnamed: 2</th>\n",
       "    </tr>\n",
       "  </thead>\n",
       "  <tbody>\n",
       "    <tr>\n",
       "      <th>1</th>\n",
       "      <td>2016</td>\n",
       "      <td>555.171</td>\n",
       "      <td>NaN</td>\n",
       "    </tr>\n",
       "    <tr>\n",
       "      <th>2</th>\n",
       "      <td>2017</td>\n",
       "      <td>494.263</td>\n",
       "      <td>NaN</td>\n",
       "    </tr>\n",
       "    <tr>\n",
       "      <th>3</th>\n",
       "      <td>2018</td>\n",
       "      <td>426.368</td>\n",
       "      <td>NaN</td>\n",
       "    </tr>\n",
       "    <tr>\n",
       "      <th>4</th>\n",
       "      <td>2019</td>\n",
       "      <td>482.003</td>\n",
       "      <td>NaN</td>\n",
       "    </tr>\n",
       "    <tr>\n",
       "      <th>5</th>\n",
       "      <td>2020</td>\n",
       "      <td>576.805</td>\n",
       "      <td>NaN</td>\n",
       "    </tr>\n",
       "  </tbody>\n",
       "</table>\n",
       "</div>"
      ],
      "text/plain": [
       "  cultivo valor_reais  Unnamed: 2\n",
       "1    2016     555.171         NaN\n",
       "2    2017     494.263         NaN\n",
       "3    2018     426.368         NaN\n",
       "4    2019     482.003         NaN\n",
       "5    2020     576.805         NaN"
      ]
     },
     "execution_count": 947,
     "metadata": {},
     "output_type": "execute_result"
    }
   ],
   "source": [
    "valor_final=valor_total.rename(columns={'Erva-mate (cultivo) - Valor da produção (Mil Reais)': 'cultivo', 'Unnamed: 1':'valor_reais'})\n",
    "valor_final"
   ]
  },
  {
   "cell_type": "code",
   "execution_count": 948,
   "id": "1ae6e7c7",
   "metadata": {},
   "outputs": [
    {
     "data": {
      "text/html": [
       "<div>\n",
       "<style scoped>\n",
       "    .dataframe tbody tr th:only-of-type {\n",
       "        vertical-align: middle;\n",
       "    }\n",
       "\n",
       "    .dataframe tbody tr th {\n",
       "        vertical-align: top;\n",
       "    }\n",
       "\n",
       "    .dataframe thead th {\n",
       "        text-align: right;\n",
       "    }\n",
       "</style>\n",
       "<table border=\"1\" class=\"dataframe\">\n",
       "  <thead>\n",
       "    <tr style=\"text-align: right;\">\n",
       "      <th></th>\n",
       "      <th>valor_reais</th>\n",
       "      <th>cultivo</th>\n",
       "    </tr>\n",
       "  </thead>\n",
       "  <tbody>\n",
       "    <tr>\n",
       "      <th>1</th>\n",
       "      <td>555.171</td>\n",
       "      <td>2016</td>\n",
       "    </tr>\n",
       "    <tr>\n",
       "      <th>2</th>\n",
       "      <td>494.263</td>\n",
       "      <td>2017</td>\n",
       "    </tr>\n",
       "    <tr>\n",
       "      <th>3</th>\n",
       "      <td>426.368</td>\n",
       "      <td>2018</td>\n",
       "    </tr>\n",
       "    <tr>\n",
       "      <th>4</th>\n",
       "      <td>482.003</td>\n",
       "      <td>2019</td>\n",
       "    </tr>\n",
       "    <tr>\n",
       "      <th>5</th>\n",
       "      <td>576.805</td>\n",
       "      <td>2020</td>\n",
       "    </tr>\n",
       "  </tbody>\n",
       "</table>\n",
       "</div>"
      ],
      "text/plain": [
       "  valor_reais cultivo\n",
       "1     555.171    2016\n",
       "2     494.263    2017\n",
       "3     426.368    2018\n",
       "4     482.003    2019\n",
       "5     576.805    2020"
      ]
     },
     "execution_count": 948,
     "metadata": {},
     "output_type": "execute_result"
    }
   ],
   "source": [
    "valor_final=valor_final[['valor_reais', 'cultivo']]\n",
    "valor_final"
   ]
  },
  {
   "cell_type": "code",
   "execution_count": 949,
   "id": "dfc3a519",
   "metadata": {},
   "outputs": [
    {
     "data": {
      "text/html": [
       "<div>\n",
       "<style scoped>\n",
       "    .dataframe tbody tr th:only-of-type {\n",
       "        vertical-align: middle;\n",
       "    }\n",
       "\n",
       "    .dataframe tbody tr th {\n",
       "        vertical-align: top;\n",
       "    }\n",
       "\n",
       "    .dataframe thead th {\n",
       "        text-align: right;\n",
       "    }\n",
       "</style>\n",
       "<table border=\"1\" class=\"dataframe\">\n",
       "  <thead>\n",
       "    <tr style=\"text-align: right;\">\n",
       "      <th></th>\n",
       "      <th>valor_reais</th>\n",
       "      <th>cultivo</th>\n",
       "    </tr>\n",
       "  </thead>\n",
       "  <tbody>\n",
       "    <tr>\n",
       "      <th>3</th>\n",
       "      <td>426.368</td>\n",
       "      <td>2018</td>\n",
       "    </tr>\n",
       "    <tr>\n",
       "      <th>4</th>\n",
       "      <td>482.003</td>\n",
       "      <td>2019</td>\n",
       "    </tr>\n",
       "    <tr>\n",
       "      <th>2</th>\n",
       "      <td>494.263</td>\n",
       "      <td>2017</td>\n",
       "    </tr>\n",
       "    <tr>\n",
       "      <th>1</th>\n",
       "      <td>555.171</td>\n",
       "      <td>2016</td>\n",
       "    </tr>\n",
       "    <tr>\n",
       "      <th>5</th>\n",
       "      <td>576.805</td>\n",
       "      <td>2020</td>\n",
       "    </tr>\n",
       "  </tbody>\n",
       "</table>\n",
       "</div>"
      ],
      "text/plain": [
       "  valor_reais cultivo\n",
       "3     426.368    2018\n",
       "4     482.003    2019\n",
       "2     494.263    2017\n",
       "1     555.171    2016\n",
       "5     576.805    2020"
      ]
     },
     "execution_count": 949,
     "metadata": {},
     "output_type": "execute_result"
    }
   ],
   "source": [
    "valor_total= valor_final.sort_values(by='valor_reais')\n",
    "valor_total"
   ]
  },
  {
   "cell_type": "code",
   "execution_count": 950,
   "id": "310d4b41",
   "metadata": {},
   "outputs": [
    {
     "data": {
      "text/plain": [
       "Text(0.5, 1.0, 'Valor em Mil reais x Ano cultivo no Brasil')"
      ]
     },
     "execution_count": 950,
     "metadata": {},
     "output_type": "execute_result"
    },
    {
     "data": {
      "text/plain": [
       "<Figure size 1440x576 with 0 Axes>"
      ]
     },
     "metadata": {},
     "output_type": "display_data"
    },
    {
     "data": {
      "image/png": "[encoded data removed]",
      "text/plain": [
       "<Figure size 421.5x360 with 1 Axes>"
      ]
     },
     "metadata": {
      "needs_background": "light"
     },
     "output_type": "display_data"
    }
   ],
   "source": [
    "plt.figure(figsize=(20,8))\n",
    "sns.lmplot(data=valor_total, x='valor_reais', y='cultivo', hue='cultivo')\n",
    "plt.title('Valor em Mil reais x Ano cultivo no Brasil', fontsize=18)"
   ]
  },
  {
   "cell_type": "markdown",
   "id": "17a8d6ca",
   "metadata": {},
   "source": [
    "## Através do gráfico observou-se que em 2019, o valor foi abaixo de 2017, 2016, e 2020. Não houve uma subida gradativa, foi variável no decorrer dos anos avaliados. "
   ]
  },
  {
   "cell_type": "code",
   "execution_count": 951,
   "id": "b708ecff",
   "metadata": {},
   "outputs": [
    {
     "data": {
      "text/html": [
       "<div>\n",
       "<style scoped>\n",
       "    .dataframe tbody tr th:only-of-type {\n",
       "        vertical-align: middle;\n",
       "    }\n",
       "\n",
       "    .dataframe tbody tr th {\n",
       "        vertical-align: top;\n",
       "    }\n",
       "\n",
       "    .dataframe thead th {\n",
       "        text-align: right;\n",
       "    }\n",
       "</style>\n",
       "<table border=\"1\" class=\"dataframe\">\n",
       "  <thead>\n",
       "    <tr style=\"text-align: right;\">\n",
       "      <th></th>\n",
       "      <th>RS</th>\n",
       "    </tr>\n",
       "  </thead>\n",
       "  <tbody>\n",
       "    <tr>\n",
       "      <th>2019</th>\n",
       "      <td>23.328</td>\n",
       "    </tr>\n",
       "    <tr>\n",
       "      <th>2018</th>\n",
       "      <td>23.206</td>\n",
       "    </tr>\n",
       "    <tr>\n",
       "      <th>2017</th>\n",
       "      <td>30.640</td>\n",
       "    </tr>\n",
       "    <tr>\n",
       "      <th>2016</th>\n",
       "      <td>30.620</td>\n",
       "    </tr>\n",
       "  </tbody>\n",
       "</table>\n",
       "</div>"
      ],
      "text/plain": [
       "          RS\n",
       "2019  23.328\n",
       "2018  23.206\n",
       "2017  30.640\n",
       "2016  30.620"
      ]
     },
     "execution_count": 951,
     "metadata": {},
     "output_type": "execute_result"
    }
   ],
   "source": [
    "d = {'RS': pd.Series([23.328, 23.206, 30.64, 30.62 ], index=[2019, 2018,2017,2016])}\n",
    "RS_mil_ha=pd.DataFrame(d)\n",
    "RS_mil_ha"
   ]
  },
  {
   "cell_type": "code",
   "execution_count": 952,
   "id": "871e6282",
   "metadata": {},
   "outputs": [
    {
     "data": {
      "text/html": [
       "<div>\n",
       "<style scoped>\n",
       "    .dataframe tbody tr th:only-of-type {\n",
       "        vertical-align: middle;\n",
       "    }\n",
       "\n",
       "    .dataframe tbody tr th {\n",
       "        vertical-align: top;\n",
       "    }\n",
       "\n",
       "    .dataframe thead th {\n",
       "        text-align: right;\n",
       "    }\n",
       "</style>\n",
       "<table border=\"1\" class=\"dataframe\">\n",
       "  <thead>\n",
       "    <tr style=\"text-align: right;\">\n",
       "      <th></th>\n",
       "      <th>SC</th>\n",
       "    </tr>\n",
       "  </thead>\n",
       "  <tbody>\n",
       "    <tr>\n",
       "      <th>2019</th>\n",
       "      <td>15.636</td>\n",
       "    </tr>\n",
       "    <tr>\n",
       "      <th>2018</th>\n",
       "      <td>16.199</td>\n",
       "    </tr>\n",
       "    <tr>\n",
       "      <th>2017</th>\n",
       "      <td>11.523</td>\n",
       "    </tr>\n",
       "    <tr>\n",
       "      <th>2016</th>\n",
       "      <td>13.190</td>\n",
       "    </tr>\n",
       "  </tbody>\n",
       "</table>\n",
       "</div>"
      ],
      "text/plain": [
       "          SC\n",
       "2019  15.636\n",
       "2018  16.199\n",
       "2017  11.523\n",
       "2016  13.190"
      ]
     },
     "execution_count": 952,
     "metadata": {},
     "output_type": "execute_result"
    }
   ],
   "source": [
    "a = {'SC': pd.Series([15.636, 16.199, 11.523, 13.19 ], index=[2019, 2018,2017,2016])}\n",
    "SC_mil_ha=pd.DataFrame(a)\n",
    "SC_mil_ha         "
   ]
  },
  {
   "cell_type": "code",
   "execution_count": 953,
   "id": "68cd5cde",
   "metadata": {},
   "outputs": [
    {
     "data": {
      "text/html": [
       "<div>\n",
       "<style scoped>\n",
       "    .dataframe tbody tr th:only-of-type {\n",
       "        vertical-align: middle;\n",
       "    }\n",
       "\n",
       "    .dataframe tbody tr th {\n",
       "        vertical-align: top;\n",
       "    }\n",
       "\n",
       "    .dataframe thead th {\n",
       "        text-align: right;\n",
       "    }\n",
       "</style>\n",
       "<table border=\"1\" class=\"dataframe\">\n",
       "  <thead>\n",
       "    <tr style=\"text-align: right;\">\n",
       "      <th></th>\n",
       "      <th>PR</th>\n",
       "    </tr>\n",
       "  </thead>\n",
       "  <tbody>\n",
       "    <tr>\n",
       "      <th>2019</th>\n",
       "      <td>28.105</td>\n",
       "    </tr>\n",
       "    <tr>\n",
       "      <th>2018</th>\n",
       "      <td>26.086</td>\n",
       "    </tr>\n",
       "    <tr>\n",
       "      <th>2017</th>\n",
       "      <td>33.368</td>\n",
       "    </tr>\n",
       "    <tr>\n",
       "      <th>2016</th>\n",
       "      <td>30.878</td>\n",
       "    </tr>\n",
       "  </tbody>\n",
       "</table>\n",
       "</div>"
      ],
      "text/plain": [
       "          PR\n",
       "2019  28.105\n",
       "2018  26.086\n",
       "2017  33.368\n",
       "2016  30.878"
      ]
     },
     "execution_count": 953,
     "metadata": {},
     "output_type": "execute_result"
    }
   ],
   "source": [
    "b = {'PR': pd.Series([28.105,26.086, 33.368, 30.878 ], index=[2019, 2018, 2017, 2016])}\n",
    "PR_mil_ha=pd.DataFrame(b)\n",
    "PR_mil_ha  "
   ]
  },
  {
   "cell_type": "markdown",
   "id": "10afc8e5",
   "metadata": {},
   "source": [
    "# Evolução da área de plantio por Mil hecatare (SC, PR e RS), maiores estados produtores "
   ]
  },
  {
   "cell_type": "code",
   "execution_count": 954,
   "id": "1d335780",
   "metadata": {},
   "outputs": [
    {
     "data": {
      "text/html": [
       "<div>\n",
       "<style scoped>\n",
       "    .dataframe tbody tr th:only-of-type {\n",
       "        vertical-align: middle;\n",
       "    }\n",
       "\n",
       "    .dataframe tbody tr th {\n",
       "        vertical-align: top;\n",
       "    }\n",
       "\n",
       "    .dataframe thead th {\n",
       "        text-align: right;\n",
       "    }\n",
       "</style>\n",
       "<table border=\"1\" class=\"dataframe\">\n",
       "  <thead>\n",
       "    <tr style=\"text-align: right;\">\n",
       "      <th></th>\n",
       "      <th>RS</th>\n",
       "      <th>SC</th>\n",
       "      <th>PR</th>\n",
       "    </tr>\n",
       "  </thead>\n",
       "  <tbody>\n",
       "    <tr>\n",
       "      <th>2019</th>\n",
       "      <td>23.328</td>\n",
       "      <td>15.636</td>\n",
       "      <td>28.105</td>\n",
       "    </tr>\n",
       "    <tr>\n",
       "      <th>2018</th>\n",
       "      <td>23.206</td>\n",
       "      <td>16.199</td>\n",
       "      <td>26.086</td>\n",
       "    </tr>\n",
       "    <tr>\n",
       "      <th>2017</th>\n",
       "      <td>30.640</td>\n",
       "      <td>11.523</td>\n",
       "      <td>33.368</td>\n",
       "    </tr>\n",
       "    <tr>\n",
       "      <th>2016</th>\n",
       "      <td>30.620</td>\n",
       "      <td>13.190</td>\n",
       "      <td>30.878</td>\n",
       "    </tr>\n",
       "  </tbody>\n",
       "</table>\n",
       "</div>"
      ],
      "text/plain": [
       "          RS      SC      PR\n",
       "2019  23.328  15.636  28.105\n",
       "2018  23.206  16.199  26.086\n",
       "2017  30.640  11.523  33.368\n",
       "2016  30.620  13.190  30.878"
      ]
     },
     "execution_count": 954,
     "metadata": {},
     "output_type": "execute_result"
    }
   ],
   "source": [
    "mil_ha=pd.concat([RS_mil_ha, SC_mil_ha, PR_mil_ha], axis=1)\n",
    "mil_ha"
   ]
  },
  {
   "cell_type": "code",
   "execution_count": 962,
   "id": "20eb3a26",
   "metadata": {},
   "outputs": [
    {
     "data": {
      "text/plain": [
       "Text(0, 0.5, 'Mil hectares plantados')"
      ]
     },
     "execution_count": 962,
     "metadata": {},
     "output_type": "execute_result"
    },
    {
     "data": {
      "text/plain": [
       "<Figure size 1296x576 with 0 Axes>"
      ]
     },
     "metadata": {},
     "output_type": "display_data"
    },
    {
     "data": {
      "image/png": "[encoded data removed]",
      "text/plain": [
       "<Figure size 432x288 with 1 Axes>"
      ]
     },
     "metadata": {
      "needs_background": "light"
     },
     "output_type": "display_data"
    }
   ],
   "source": [
    "plt.figure(figsize=(18,8))\n",
    "mil_ha.plot()\n",
    "plt.title('Evolução de plantio de erva mate em mil hectare', fontsize=18, y=1.05)\n",
    "plt.xlabel('Ano',fontsize=18)\n",
    "plt.ylabel('Mil hectares plantados',fontsize=18)"
   ]
  },
  {
   "cell_type": "markdown",
   "id": "612ba2c7",
   "metadata": {},
   "source": [
    "# Houve um decréscimo de área plantada em 2018 e 2019 nos estados de RS e PR"
   ]
  },
  {
   "cell_type": "code",
   "execution_count": 956,
   "id": "a18a85d5",
   "metadata": {},
   "outputs": [
    {
     "data": {
      "text/html": [
       "<div>\n",
       "<style scoped>\n",
       "    .dataframe tbody tr th:only-of-type {\n",
       "        vertical-align: middle;\n",
       "    }\n",
       "\n",
       "    .dataframe tbody tr th {\n",
       "        vertical-align: top;\n",
       "    }\n",
       "\n",
       "    .dataframe thead th {\n",
       "        text-align: right;\n",
       "    }\n",
       "</style>\n",
       "<table border=\"1\" class=\"dataframe\">\n",
       "  <thead>\n",
       "    <tr style=\"text-align: right;\">\n",
       "      <th></th>\n",
       "      <th>RS</th>\n",
       "    </tr>\n",
       "  </thead>\n",
       "  <tbody>\n",
       "    <tr>\n",
       "      <th>2019</th>\n",
       "      <td>233.434</td>\n",
       "    </tr>\n",
       "    <tr>\n",
       "      <th>2018</th>\n",
       "      <td>232.971</td>\n",
       "    </tr>\n",
       "    <tr>\n",
       "      <th>2017</th>\n",
       "      <td>302.000</td>\n",
       "    </tr>\n",
       "    <tr>\n",
       "      <th>2016</th>\n",
       "      <td>297.141</td>\n",
       "    </tr>\n",
       "  </tbody>\n",
       "</table>\n",
       "</div>"
      ],
      "text/plain": [
       "           RS\n",
       "2019  233.434\n",
       "2018  232.971\n",
       "2017  302.000\n",
       "2016  297.141"
      ]
     },
     "execution_count": 956,
     "metadata": {},
     "output_type": "execute_result"
    }
   ],
   "source": [
    "n = {'RS': pd.Series([233.434, 232.971, 302, 297.141 ], index=[2019, 2018,2017,2016])}\n",
    "RS_mil_ton=pd.DataFrame(n)\n",
    "RS_mil_ton"
   ]
  },
  {
   "cell_type": "code",
   "execution_count": 957,
   "id": "0cae0770",
   "metadata": {},
   "outputs": [
    {
     "data": {
      "text/html": [
       "<div>\n",
       "<style scoped>\n",
       "    .dataframe tbody tr th:only-of-type {\n",
       "        vertical-align: middle;\n",
       "    }\n",
       "\n",
       "    .dataframe tbody tr th {\n",
       "        vertical-align: top;\n",
       "    }\n",
       "\n",
       "    .dataframe thead th {\n",
       "        text-align: right;\n",
       "    }\n",
       "</style>\n",
       "<table border=\"1\" class=\"dataframe\">\n",
       "  <thead>\n",
       "    <tr style=\"text-align: right;\">\n",
       "      <th></th>\n",
       "      <th>SC</th>\n",
       "    </tr>\n",
       "  </thead>\n",
       "  <tbody>\n",
       "    <tr>\n",
       "      <th>2019</th>\n",
       "      <td>89.909</td>\n",
       "    </tr>\n",
       "    <tr>\n",
       "      <th>2018</th>\n",
       "      <td>93.400</td>\n",
       "    </tr>\n",
       "    <tr>\n",
       "      <th>2017</th>\n",
       "      <td>78.078</td>\n",
       "    </tr>\n",
       "    <tr>\n",
       "      <th>2016</th>\n",
       "      <td>89.625</td>\n",
       "    </tr>\n",
       "  </tbody>\n",
       "</table>\n",
       "</div>"
      ],
      "text/plain": [
       "          SC\n",
       "2019  89.909\n",
       "2018  93.400\n",
       "2017  78.078\n",
       "2016  89.625"
      ]
     },
     "execution_count": 957,
     "metadata": {},
     "output_type": "execute_result"
    }
   ],
   "source": [
    "o = {'SC': pd.Series([89.909, 93.4, 78.078, 89.625], index=[2019, 2018,2017,2016])}\n",
    "SC_mil_ton=pd.DataFrame(o)\n",
    "SC_mil_ton"
   ]
  },
  {
   "cell_type": "code",
   "execution_count": 958,
   "id": "cc1b7d23",
   "metadata": {},
   "outputs": [
    {
     "data": {
      "text/html": [
       "<div>\n",
       "<style scoped>\n",
       "    .dataframe tbody tr th:only-of-type {\n",
       "        vertical-align: middle;\n",
       "    }\n",
       "\n",
       "    .dataframe tbody tr th {\n",
       "        vertical-align: top;\n",
       "    }\n",
       "\n",
       "    .dataframe thead th {\n",
       "        text-align: right;\n",
       "    }\n",
       "</style>\n",
       "<table border=\"1\" class=\"dataframe\">\n",
       "  <thead>\n",
       "    <tr style=\"text-align: right;\">\n",
       "      <th></th>\n",
       "      <th>PR</th>\n",
       "    </tr>\n",
       "  </thead>\n",
       "  <tbody>\n",
       "    <tr>\n",
       "      <th>2019</th>\n",
       "      <td>192.872</td>\n",
       "    </tr>\n",
       "    <tr>\n",
       "      <th>2018</th>\n",
       "      <td>182.285</td>\n",
       "    </tr>\n",
       "    <tr>\n",
       "      <th>2017</th>\n",
       "      <td>238.244</td>\n",
       "    </tr>\n",
       "    <tr>\n",
       "      <th>2016</th>\n",
       "      <td>242.009</td>\n",
       "    </tr>\n",
       "  </tbody>\n",
       "</table>\n",
       "</div>"
      ],
      "text/plain": [
       "           PR\n",
       "2019  192.872\n",
       "2018  182.285\n",
       "2017  238.244\n",
       "2016  242.009"
      ]
     },
     "execution_count": 958,
     "metadata": {},
     "output_type": "execute_result"
    }
   ],
   "source": [
    "p = {'PR': pd.Series([192.872, 182.285, 238.244, 242.009], index=[2019, 2018,2017,2016])}\n",
    "PR_mil_ton=pd.DataFrame(p)\n",
    "PR_mil_ton"
   ]
  },
  {
   "cell_type": "markdown",
   "id": "adaf6e0e",
   "metadata": {},
   "source": [
    "#  Evolução do volume de produção por Mil toneladas de erva mate cultivadas nos estados: (SC, PR e RS), maiores produtores "
   ]
  },
  {
   "cell_type": "code",
   "execution_count": 959,
   "id": "b5f06466",
   "metadata": {},
   "outputs": [
    {
     "data": {
      "text/html": [
       "<div>\n",
       "<style scoped>\n",
       "    .dataframe tbody tr th:only-of-type {\n",
       "        vertical-align: middle;\n",
       "    }\n",
       "\n",
       "    .dataframe tbody tr th {\n",
       "        vertical-align: top;\n",
       "    }\n",
       "\n",
       "    .dataframe thead th {\n",
       "        text-align: right;\n",
       "    }\n",
       "</style>\n",
       "<table border=\"1\" class=\"dataframe\">\n",
       "  <thead>\n",
       "    <tr style=\"text-align: right;\">\n",
       "      <th></th>\n",
       "      <th>RS</th>\n",
       "      <th>SC</th>\n",
       "      <th>PR</th>\n",
       "    </tr>\n",
       "  </thead>\n",
       "  <tbody>\n",
       "    <tr>\n",
       "      <th>2019</th>\n",
       "      <td>233.434</td>\n",
       "      <td>89.909</td>\n",
       "      <td>192.872</td>\n",
       "    </tr>\n",
       "    <tr>\n",
       "      <th>2018</th>\n",
       "      <td>232.971</td>\n",
       "      <td>93.400</td>\n",
       "      <td>182.285</td>\n",
       "    </tr>\n",
       "    <tr>\n",
       "      <th>2017</th>\n",
       "      <td>302.000</td>\n",
       "      <td>78.078</td>\n",
       "      <td>238.244</td>\n",
       "    </tr>\n",
       "    <tr>\n",
       "      <th>2016</th>\n",
       "      <td>297.141</td>\n",
       "      <td>89.625</td>\n",
       "      <td>242.009</td>\n",
       "    </tr>\n",
       "  </tbody>\n",
       "</table>\n",
       "</div>"
      ],
      "text/plain": [
       "           RS      SC       PR\n",
       "2019  233.434  89.909  192.872\n",
       "2018  232.971  93.400  182.285\n",
       "2017  302.000  78.078  238.244\n",
       "2016  297.141  89.625  242.009"
      ]
     },
     "execution_count": 959,
     "metadata": {},
     "output_type": "execute_result"
    }
   ],
   "source": [
    "mil_ton=pd.concat([RS_mil_ton, SC_mil_ton, PR_mil_ton], axis=1)\n",
    "mil_ton"
   ]
  },
  {
   "cell_type": "code",
   "execution_count": 967,
   "id": "2121c290",
   "metadata": {},
   "outputs": [
    {
     "data": {
      "text/plain": [
       "Text(0, 0.5, 'Produção em Mil Ton')"
      ]
     },
     "execution_count": 967,
     "metadata": {},
     "output_type": "execute_result"
    },
    {
     "data": {
      "text/plain": [
       "<Figure size 1296x576 with 0 Axes>"
      ]
     },
     "metadata": {},
     "output_type": "display_data"
    },
    {
     "data": {
      "image/png": "[encoded data removed]",
      "text/plain": [
       "<Figure size 432x288 with 1 Axes>"
      ]
     },
     "metadata": {
      "needs_background": "light"
     },
     "output_type": "display_data"
    }
   ],
   "source": [
    "plt.figure(figsize=(18,8))\n",
    "mil_ton.plot()\n",
    "plt.title('Evolução do volume de produção de erva mate em mil toneladas', fontsize=18, y=1.05)\n",
    "plt.xlabel('ano', fontsize=18)\n",
    "plt.ylabel('Produção em Mil Ton',fontsize=18)"
   ]
  },
  {
   "cell_type": "markdown",
   "id": "1e01b81b",
   "metadata": {},
   "source": [
    "# Até 2019 houve decréscimo em volume (1000 ton)"
   ]
  },
  {
   "cell_type": "code",
   "execution_count": null,
   "id": "65985a50",
   "metadata": {},
   "outputs": [],
   "source": []
  }
 ],
 "metadata": {
  "kernelspec": {
   "display_name": "Python 3 (ipykernel)",
   "language": "python",
   "name": "python3"
  },
  "language_info": {
   "codemirror_mode": {
    "name": "ipython",
    "version": 3
   },
   "file_extension": ".py",
   "mimetype": "text/x-python",
   "name": "python",
   "nbconvert_exporter": "python",
   "pygments_lexer": "ipython3",
   "version": "3.9.12"
  }
 },
 "nbformat": 4,
 "nbformat_minor": 5
}
